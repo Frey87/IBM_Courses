{
 "cells": [
  {
   "cell_type": "markdown",
   "metadata": {},
   "source": [
    "<center>\n",
    "    <img src=\"https://cf-courses-data.s3.us.cloud-object-storage.appdomain.cloud/IBMDeveloperSkillsNetwork-DS0105EN-SkillsNetwork/labs/Module2/images/SN_web_lightmode.png\" width=\"300\" alt=\"cognitiveclass.ai logo\">\n",
    "</center>\n"
   ]
  },
  {
   "cell_type": "markdown",
   "metadata": {},
   "source": [
    "<H1>Data Science Tools and Ecosystem</H1>"
   ]
  },
  {
   "cell_type": "markdown",
   "metadata": {},
   "source": [
    "<span style=\"color:#FF00FF\">In this notebook, Data Science Tools and Ecosystem are summarized.</span>"
   ]
  },
  {
   "cell_type": "markdown",
   "metadata": {},
   "source": [
    "<span style=\"color:#FF00FF\">**Objectives:**</span>\n",
    "\n",
    "<span style=\"color:#FF00FF\">- List popular languages for Data Science.</span>\n",
    "\n",
    "<span style=\"color:#FF00FF\">- Describe some of the commonly used libraries in Data Science.</span>\n",
    "\n",
    "<span style=\"color:#FF00FF\">- Demonstrate examples of open-source development environments used in Data Science.</span>\n",
    "\n",
    "<span style=\"color:#FF00FF\">- Summarize key tools in the Data Science ecosystem.</span>\n",
    "\n",
    "<span style=\"color:#FF00FF\">- Provide an overview of the role of Data Science in various domains.</span>"
   ]
  },
  {
   "cell_type": "markdown",
   "metadata": {},
   "source": [
    "<span style=\"color:#FF00FF\">Some of the popular languages that Data Scientists use are:</span>\n",
    "<ol>\n",
    "  <span style=\"color:#FF00FF\"><li>Python</li>\n",
    "  <li>R</li>\n",
    "  <li>SQL</li></span>\n",
    "</ol>"
   ]
  },
  {
   "cell_type": "markdown",
   "metadata": {},
   "source": [
    "<span style=\"color:#FF00FF\">Some of the commonly used libraries used by Data Scientists include::</span>\n",
    "<ol>\n",
    "  <span style=\"color:#FF00FF\"><li>NumPy</li>\n",
    "  <li>Matplotlib</li>\n",
    "  <li>Pandas</li></span>\n",
    "</ol>"
   ]
  },
  {
   "cell_type": "markdown",
   "metadata": {},
   "source": [
    "<table border=\"1\" style=\"color: #FF00FF; border-collapse: collapse;\">\n",
    "    <tr>\n",
    "        <th>Data Science Tools</th>\n",
    "    </tr>\n",
    "    <tr>\n",
    "        <td>Jupyter Notebook</td>\n",
    "    </tr>\n",
    "    <tr>\n",
    "        <td>RStudio</td>\n",
    "    </tr>\n",
    "    <tr>\n",
    "        <td>Apache Zeppelin</td>\n",
    "    </tr>\n",
    "</table>"
   ]
  },
  {
   "cell_type": "markdown",
   "metadata": {},
   "source": [
    "<H3 style=\"color: #FF00FF;\">Below are a few examples of evaluating arithmetic expressions in Python</H3>"
   ]
  },
  {
   "cell_type": "code",
   "execution_count": 13,
   "metadata": {},
   "outputs": [
    {
     "data": {
      "text/plain": [
       "17"
      ]
     },
     "execution_count": 13,
     "metadata": {},
     "output_type": "execute_result"
    }
   ],
   "source": [
    "\"\"\"This a simple arithmetic expression to mutiply then add integers\"\"\"\n",
    "(3*4)+5"
   ]
  },
  {
   "cell_type": "code",
   "execution_count": 15,
   "metadata": {},
   "outputs": [
    {
     "data": {
      "text/plain": [
       "3.3333333333333335"
      ]
     },
     "execution_count": 15,
     "metadata": {},
     "output_type": "execute_result"
    }
   ],
   "source": [
    "\"\"\"This will convert 200 minutes to hours by diving by 60\"\"\"\n",
    "200/60"
   ]
  },
  {
   "cell_type": "markdown",
   "metadata": {},
   "source": [
    "<H2 style=\"color: #FF00FF;\">Author</H2>\n",
    "Valentyn Verovkin"
   ]
  }
 ],
 "metadata": {
  "kernelspec": {
   "display_name": "Python 3 (ipykernel)",
   "language": "python",
   "name": "python3"
  },
  "language_info": {
   "codemirror_mode": {
    "name": "ipython",
    "version": 3
   },
   "file_extension": ".py",
   "mimetype": "text/x-python",
   "name": "python",
   "nbconvert_exporter": "python",
   "pygments_lexer": "ipython3",
   "version": "3.11.9"
  }
 },
 "nbformat": 4,
 "nbformat_minor": 4
}
